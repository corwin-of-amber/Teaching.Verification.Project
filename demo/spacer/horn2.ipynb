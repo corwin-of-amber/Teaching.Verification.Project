{
 "cells": [
  {
   "cell_type": "code",
   "execution_count": 2,
   "metadata": {},
   "outputs": [],
   "source": [
    "from z3 import *"
   ]
  },
  {
   "cell_type": "markdown",
   "metadata": {},
   "source": [
    "We are going to verify this program:\n",
    "```\n",
    "assume(B > 0);\n",
    "C = A;\n",
    "D = 0;\n",
    "while (D < B) {\n",
    "    C++; D++;\n",
    "}\n",
    "assert(C == A + B);\n",
    "```"
   ]
  },
  {
   "cell_type": "code",
   "execution_count": 3,
   "metadata": {},
   "outputs": [],
   "source": [
    "_int = IntSort(); _bool = BoolSort()\n",
    "Inv = Function(\"Inv\", _int, _int, _int, _int, _bool)\n",
    "A, B, C, D, C1, D1 = Ints(\"A B C D C1 D1\")\n",
    "\n",
    "PRECONDITION = And(B > 0, C == A, D == 0)\n",
    "POSTCONDITION = (C == A + B)"
   ]
  },
  {
   "cell_type": "code",
   "execution_count": 6,
   "metadata": {},
   "outputs": [
    {
     "data": {
      "text/html": [
       "&forall;A, B, C, D :\n",
       " Inv(A, B, C, D) =\n",
       " (C + -1&middot;A + -1&middot;D &le; 0 &and;\n",
       "  C + -1&middot;A + -1&middot;B &le; 0 &and;\n",
       "  A + D + -1&middot;C &le; 0)"
      ],
      "text/plain": [
       "ForAll([A, B, C, D],\n",
       "       Inv(A, B, C, D) ==\n",
       "       And(C + -1*A + -1*D <= 0,\n",
       "           C + -1*A + -1*B <= 0,\n",
       "           A + D + -1*C <= 0))"
      ]
     },
     "execution_count": 6,
     "metadata": {},
     "output_type": "execute_result"
    }
   ],
   "source": [
    "fp = Fixedpoint()\n",
    "\n",
    "fp.declare_var(A, B, C, D, C1, D1)\n",
    "fp.register_relation(Inv)\n",
    "\n",
    "# B > 0 ∧ C = A ∧ D = 0 → Inv\n",
    "fp.rule(Inv(A, B, C, D), PRECONDITION)\n",
    "\n",
    "# Inv ∧ D < B ∧ C' = C + 1 ∧ D' = D + 1 → Inv\n",
    "fp.rule(Inv(A, B, C1, D1), [Inv(A, B, C, D), D < B, C1 == C + 1, D1 == D + 1])\n",
    "\n",
    "# Inv ∧ ¬(D < B) → C = A + B\n",
    "fp.query(And(Inv(A, B, C, D), Not(D < B), Not(POSTCONDITION)))\n",
    "fp.get_answer()"
   ]
  },
  {
   "cell_type": "markdown",
   "metadata": {},
   "source": [
    "#### Example with an error\n",
    "We change the postcondition to an incorrect one, $C = A + B + 1$.\n",
    "\n",
    "(We also force $B > 4$ just so that the result is more interesting for this demonstration)"
   ]
  },
  {
   "cell_type": "code",
   "execution_count": 7,
   "metadata": {},
   "outputs": [],
   "source": [
    "PRECONDITION = And(B > 4, C == A, D == 0)\n",
    "POSTCONDITION = (C == A + B + 1)"
   ]
  },
  {
   "cell_type": "code",
   "execution_count": 9,
   "metadata": {},
   "outputs": [
    {
     "data": {
      "text/html": [
       "mp(hyper-res(asserted(&forall;A, B, C, D :\n",
       "                       Inv(A, B, C, D) &and;\n",
       "                       B &le; D &and;\n",
       "                       &not;(C = 1 + A + B) &rArr;\n",
       "                       query!61(A, B, C, D)),\n",
       "             hyper-res(asserted(&forall;A, B, C, D, E, F :\n",
       "                                 Inv(A, B, C, D) &and;\n",
       "                                 E = 1 + C &and;\n",
       "                                 &not;(B &le; D) &and;\n",
       "                                 F = 1 + D &rArr;\n",
       "                                 Inv(A, B, E, F)),\n",
       "                       hyper-res(asserted(&forall;A, B, C, D, E, F :\n",
       "                                        Inv(A, B, C, D) &and;\n",
       "                                        E = 1 + C &and;\n",
       "                                        &not;(B &le; D) &and;\n",
       "                                        F = 1 + D &rArr;\n",
       "                                        Inv(A, B, E, F)),\n",
       "                                 hyper-res(asserted(&forall;A,\n",
       "                                        B,\n",
       "                                        C,\n",
       "                                        D,\n",
       "                                        E,\n",
       "                                        F :\n",
       "                                        Inv(A, B, C, D) &and;\n",
       "                                        E = 1 + C &and;\n",
       "                                        &not;(B &le; D) &and;\n",
       "                                        F = 1 + D &rArr;\n",
       "                                        Inv(A, B, E, F)),\n",
       "                                        hyper-res(asserted(&forall;A,\n",
       "                                        B,\n",
       "                                        C,\n",
       "                                        D,\n",
       "                                        E,\n",
       "                                        F :\n",
       "                                        Inv(A, B, C, D) &and;\n",
       "                                        E = 1 + C &and;\n",
       "                                        &not;(B &le; D) &and;\n",
       "                                        F = 1 + D &rArr;\n",
       "                                        Inv(A, B, E, F)),\n",
       "                                        hyper-res(asserted(&forall;A,\n",
       "                                        B,\n",
       "                                        C,\n",
       "                                        D,\n",
       "                                        E,\n",
       "                                        F :\n",
       "                                        Inv(A, B, C, D) &and;\n",
       "                                        E = 1 + C &and;\n",
       "                                        &not;(B &le; D) &and;\n",
       "                                        F = 1 + D &rArr;\n",
       "                                        Inv(A, B, E, F)),\n",
       "                                        hyper-res(asserted(&forall;A,\n",
       "                                        B :\n",
       "                                        &not;(B &le; 4) &rArr;\n",
       "                                        Inv(A, B, A, 0)),\n",
       "                                        Inv(-5, 5, -5, 0)),\n",
       "                                        Inv(-5, 5, -4, 1)),\n",
       "                                        Inv(-5, 5, -3, 2)),\n",
       "                                        Inv(-5, 5, -2, 3)),\n",
       "                                 Inv(-5, 5, -1, 4)),\n",
       "                       Inv(-5, 5, 0, 5)),\n",
       "             query!61(-5, 5, 0, 5)),\n",
       "   asserted(query!61(-5, 5, 0, 5) &rArr; False),\n",
       "   False)"
      ],
      "text/plain": [
       "mp(hyper-res(asserted(ForAll([A, B, C, D],\n",
       "                             Implies(And(Inv(A, B, C, D),\n",
       "                                        B <= D,\n",
       "                                        Not(C == 1 + A + B)),\n",
       "                                     query!61(A, B, C, D)))),\n",
       "             hyper-res(asserted(ForAll([A, B, C, D, E, F],\n",
       "                                       Implies(And(Inv(A,\n",
       "                                        B,\n",
       "                                        C,\n",
       "                                        D),\n",
       "                                        E == 1 + C,\n",
       "                                        Not(B <= D),\n",
       "                                        F == 1 + D),\n",
       "                                        Inv(A, B, E, F)))),\n",
       "                       hyper-res(asserted(ForAll([A,\n",
       "                                        B,\n",
       "                                        C,\n",
       "                                        D,\n",
       "                                        E,\n",
       "                                        F],\n",
       "                                        Implies(And(Inv(A,\n",
       "                                        B,\n",
       "                                        C,\n",
       "                                        D),\n",
       "                                        E == 1 + C,\n",
       "                                        Not(B <= D),\n",
       "                                        F == 1 + D),\n",
       "                                        Inv(A, B, E, F)))),\n",
       "                                 hyper-res(asserted(ForAll([A,\n",
       "                                        B,\n",
       "                                        C,\n",
       "                                        D,\n",
       "                                        E,\n",
       "                                        F],\n",
       "                                        Implies(And(Inv(A,\n",
       "                                        B,\n",
       "                                        C,\n",
       "                                        D),\n",
       "                                        E == 1 + C,\n",
       "                                        Not(B <= D),\n",
       "                                        F == 1 + D),\n",
       "                                        Inv(A, B, E, F)))),\n",
       "                                        hyper-res(asserted(ForAll([A,\n",
       "                                        B,\n",
       "                                        C,\n",
       "                                        D,\n",
       "                                        E,\n",
       "                                        F],\n",
       "                                        Implies(And(Inv(A,\n",
       "                                        B,\n",
       "                                        C,\n",
       "                                        D),\n",
       "                                        E == 1 + C,\n",
       "                                        Not(B <= D),\n",
       "                                        F == 1 + D),\n",
       "                                        Inv(A, B, E, F)))),\n",
       "                                        hyper-res(asserted(ForAll([A,\n",
       "                                        B,\n",
       "                                        C,\n",
       "                                        D,\n",
       "                                        E,\n",
       "                                        F],\n",
       "                                        Implies(And(Inv(A,\n",
       "                                        B,\n",
       "                                        C,\n",
       "                                        D),\n",
       "                                        E == 1 + C,\n",
       "                                        Not(B <= D),\n",
       "                                        F == 1 + D),\n",
       "                                        Inv(A, B, E, F)))),\n",
       "                                        hyper-res(asserted(ForAll([A,\n",
       "                                        B],\n",
       "                                        Implies(Not(B <= 4),\n",
       "                                        Inv(A, B, A, 0)))),\n",
       "                                        Inv(-5, 5, -5, 0)),\n",
       "                                        Inv(-5, 5, -4, 1)),\n",
       "                                        Inv(-5, 5, -3, 2)),\n",
       "                                        Inv(-5, 5, -2, 3)),\n",
       "                                 Inv(-5, 5, -1, 4)),\n",
       "                       Inv(-5, 5, 0, 5)),\n",
       "             query!61(-5, 5, 0, 5)),\n",
       "   asserted(Implies(query!61(-5, 5, 0, 5), False)),\n",
       "   False)"
      ]
     },
     "execution_count": 9,
     "metadata": {},
     "output_type": "execute_result"
    }
   ],
   "source": [
    "fp = Fixedpoint()\n",
    "\n",
    "fp.declare_var(A, B, C, D, C1, D1)\n",
    "fp.register_relation(Inv)\n",
    "\n",
    "# B > 0 ∧ C = A ∧ D = 0 → Inv\n",
    "fp.rule(Inv(A, B, C, D), PRECONDITION)\n",
    "\n",
    "# Inv ∧ D < B ∧ C' = C + 1 ∧ D' = D + 1 → Inv\n",
    "fp.rule(Inv(A, B, C1, D1), [Inv(A, B, C, D), D < B, C1 == C + 1, D1 == D + 1])\n",
    "\n",
    "# Inv ∧ ¬(D < B) → C = A + B\n",
    "fp.query(And(Inv(A, B, C, D), Not(D < B), Not(POSTCONDITION)))\n",
    "fp.get_answer()"
   ]
  },
  {
   "cell_type": "markdown",
   "metadata": {},
   "source": [
    "**Whoa, what's going on here.** What Z3 (Spacer) produced is a _proof of reachability_ of the query.\n",
    "\n",
    "Let's try to print it (btw this is the same kind of answer you get if you run e.g. `z3 fp.print_answer=true horn2-error.smt2`)."
   ]
  },
  {
   "cell_type": "code",
   "execution_count": 11,
   "metadata": {},
   "outputs": [
    {
     "name": "stdout",
     "output_type": "stream",
     "text": [
      "mp(hyper-res(asserted(ForAll([A, B, C, D],\n",
      "                             Implies(And(Inv(A, B, C, D),\n",
      "                                        B <= D,\n",
      "                                        Not(C == 1 + A + B)),\n",
      "                                     query!61(A, B, C, D)))),\n",
      "             hyper-res(asserted(ForAll([A, B, C, D, E, F],\n",
      "                                       Implies(And(Inv(A,\n",
      "                                        B,\n",
      "                                        C,\n",
      "                                        D),\n",
      "                                        E == 1 + C,\n",
      "                                        Not(B <= D),\n",
      "                                        F == 1 + D),\n",
      "                                        Inv(A, B, E, F)))),\n",
      "                       hyper-res(asserted(ForAll([A,\n",
      "                                        B,\n",
      "                                        C,\n",
      "                                        D,\n",
      "                                        E,\n",
      "                                        F],\n",
      "                                        Implies(And(Inv(A,\n",
      "                                        B,\n",
      "                                        C,\n",
      "                                        D),\n",
      "                                        E == 1 + C,\n",
      "                                        Not(B <= D),\n",
      "                                        F == 1 + D),\n",
      "                                        Inv(A, B, E, F)))),\n",
      "                                 hyper-res(asserted(ForAll([A,\n",
      "                                        B,\n",
      "                                        C,\n",
      "                                        D,\n",
      "                                        E,\n",
      "                                        F],\n",
      "                                        Implies(And(Inv(A,\n",
      "                                        B,\n",
      "                                        C,\n",
      "                                        D),\n",
      "                                        E == 1 + C,\n",
      "                                        Not(B <= D),\n",
      "                                        F == 1 + D),\n",
      "                                        Inv(A, B, E, F)))),\n",
      "                                        hyper-res(asserted(ForAll([A,\n",
      "                                        B,\n",
      "                                        C,\n",
      "                                        D,\n",
      "                                        E,\n",
      "                                        F],\n",
      "                                        Implies(And(Inv(A,\n",
      "                                        B,\n",
      "                                        C,\n",
      "                                        D),\n",
      "                                        E == 1 + C,\n",
      "                                        Not(B <= D),\n",
      "                                        F == 1 + D),\n",
      "                                        Inv(A, B, E, F)))),\n",
      "                                        hyper-res(asserted(ForAll([A,\n",
      "                                        B,\n",
      "                                        C,\n",
      "                                        D,\n",
      "                                        E,\n",
      "                                        F],\n",
      "                                        Implies(And(Inv(A,\n",
      "                                        B,\n",
      "                                        C,\n",
      "                                        D),\n",
      "                                        E == 1 + C,\n",
      "                                        Not(B <= D),\n",
      "                                        F == 1 + D),\n",
      "                                        Inv(A, B, E, F)))),\n",
      "                                        hyper-res(asserted(ForAll([A,\n",
      "                                        B],\n",
      "                                        Implies(Not(B <= 4),\n",
      "                                        Inv(A, B, A, 0)))),\n",
      "                                        Inv(-5, 5, -5, 0)),\n",
      "                                        Inv(-5, 5, -4, 1)),\n",
      "                                        Inv(-5, 5, -3, 2)),\n",
      "                                        Inv(-5, 5, -2, 3)),\n",
      "                                 Inv(-5, 5, -1, 4)),\n",
      "                       Inv(-5, 5, 0, 5)),\n",
      "             query!61(-5, 5, 0, 5)),\n",
      "   asserted(Implies(query!61(-5, 5, 0, 5), False)),\n",
      "   False)\n"
     ]
    }
   ],
   "source": [
    "print(fp.get_answer())"
   ]
  },
  {
   "cell_type": "markdown",
   "metadata": {},
   "source": [
    "Can you see the trace leading to the error -- i.e. violation of the postcondition in our case?\n",
    " * Inv(-5, 5, -5, 0)\n",
    " * Inv(-5, 5, -4, 1)\n",
    " * Inv(-5, 5, -3, 2)\n",
    " * Inv(-5, 5, -2, 3)\n",
    " * Inv(-5, 5, -1, 4)\n",
    " * Inv(-5, 5,  0, 5)\n",
    " * query(-5, 5, 0, 5)\n",
    " * False"
   ]
  },
  {
   "cell_type": "markdown",
   "metadata": {},
   "source": [
    "This is in fact a proper Z3 expression, you can traverse it with the API if you like."
   ]
  },
  {
   "cell_type": "code",
   "execution_count": 12,
   "metadata": {},
   "outputs": [
    {
     "data": {
      "text/plain": [
       "z3.z3.ExprRef"
      ]
     },
     "execution_count": 12,
     "metadata": {},
     "output_type": "execute_result"
    }
   ],
   "source": [
    "answer = fp.get_answer()\n",
    "type(answer)"
   ]
  },
  {
   "cell_type": "code",
   "execution_count": 38,
   "metadata": {},
   "outputs": [
    {
     "data": {
      "text/plain": [
       "[Inv(-5, 5, -5, 0),\n",
       " Inv(-5, 5, -4, 1),\n",
       " Inv(-5, 5, -3, 2),\n",
       " Inv(-5, 5, -2, 3),\n",
       " Inv(-5, 5, -1, 4),\n",
       " Inv(-5, 5, 0, 5)]"
      ]
     },
     "execution_count": 38,
     "metadata": {},
     "output_type": "execute_result"
    }
   ],
   "source": [
    "def walk_expr(e):\n",
    "    yield e\n",
    "    for c in e.children():\n",
    "        for x in walk_expr(c): yield x\n",
    "            \n",
    "def fv(e):\n",
    "    \"\"\"Returns the list of variables in expression `e`\"\"\"\n",
    "    return set(x for x in walk_expr(e) if is_var(x))\n",
    "            \n",
    "[x for x in walk_expr(answer) if is_app(x) and x.decl() == Inv and fv(x) == set()]"
   ]
  }
 ],
 "metadata": {
  "kernelspec": {
   "display_name": "Python 3",
   "language": "python",
   "name": "python3"
  },
  "language_info": {
   "codemirror_mode": {
    "name": "ipython",
    "version": 3
   },
   "file_extension": ".py",
   "mimetype": "text/x-python",
   "name": "python",
   "nbconvert_exporter": "python",
   "pygments_lexer": "ipython3",
   "version": "3.9.5"
  }
 },
 "nbformat": 4,
 "nbformat_minor": 4
}

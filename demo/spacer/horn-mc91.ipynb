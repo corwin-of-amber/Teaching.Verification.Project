{
 "cells": [
  {
   "cell_type": "markdown",
   "metadata": {},
   "source": [
    "### McCarthy's 91 function\n",
    "from https://ericpony.github.io/z3py-tutorial/fixpoint-examples.htm"
   ]
  },
  {
   "cell_type": "code",
   "execution_count": 1,
   "metadata": {},
   "outputs": [],
   "source": [
    "from z3 import *"
   ]
  },
  {
   "cell_type": "code",
   "execution_count": 11,
   "metadata": {},
   "outputs": [
    {
     "name": "stdout",
     "output_type": "stream",
     "text": [
      "unsat\n",
      "ForAll([A, B], mc(A, B) == Not(B <= 90))\n"
     ]
    }
   ],
   "source": [
    "mc = Function('mc', IntSort(), IntSort(), BoolSort())\n",
    "n, m, p = Ints('n m p')\n",
    "\n",
    "\n",
    "fp = Fixedpoint()\n",
    "\n",
    "fp.declare_var(n,m,p)\n",
    "fp.register_relation(mc)\n",
    "\n",
    "fp.rule(mc(m, m-10), m > 100)\n",
    "fp.rule(mc(m, n), [m <= 100, mc(m+11,p),mc(p,n)])\n",
    "    \n",
    "print(fp.query(And(mc(m,n),n < 90)))\n",
    "print(fp.get_answer())"
   ]
  },
  {
   "cell_type": "code",
   "execution_count": 12,
   "metadata": {},
   "outputs": [
    {
     "name": "stdout",
     "output_type": "stream",
     "text": [
      "unsat\n",
      "ForAll([A, B], mc(A, B) == Not(B <= 90))\n"
     ]
    }
   ],
   "source": [
    "print(fp.query(And(mc(m,n),n < 91)))\n",
    "print(fp.get_answer())"
   ]
  },
  {
   "cell_type": "code",
   "execution_count": 13,
   "metadata": {},
   "outputs": [
    {
     "name": "stdout",
     "output_type": "stream",
     "text": [
      "sat\n",
      "mp(hyper-res(asserted(ForAll([A, B],\n",
      "                             Implies(And(mc(B, A),\n",
      "                                        Not(92 <= A)),\n",
      "                                     query!129(A, B)))),\n",
      "             hyper-res(asserted(ForAll([A, B],\n",
      "                                       Implies(And(Not(B <=\n",
      "                                        100),\n",
      "                                        A == -10 + B),\n",
      "                                        mc(B, A)))),\n",
      "                       mc(101, 91)),\n",
      "             query!129(91, 101)),\n",
      "   asserted(Implies(query!129(91, 101), False)),\n",
      "   False)\n"
     ]
    }
   ],
   "source": [
    "\n",
    "print(fp.query(And(mc(m,n),n < 92)))\n",
    "print(fp.get_answer())\n"
   ]
  },
  {
   "cell_type": "markdown",
   "metadata": {},
   "source": [
    "**Property:** for input ≤ 101, mc returns 91."
   ]
  },
  {
   "cell_type": "code",
   "execution_count": 14,
   "metadata": {},
   "outputs": [
    {
     "name": "stdout",
     "output_type": "stream",
     "text": [
      "unsat\n",
      "ForAll([A, B],\n",
      "       mc(A, B) ==\n",
      "       And(Not(B <= 90),\n",
      "           Or(Not(B >= 92), Not(B + -1*A >= -9))))\n"
     ]
    }
   ],
   "source": [
    "print(fp.query(And(m <= 101, mc(m,n), n != 91)))\n",
    "print(fp.get_answer())"
   ]
  },
  {
   "cell_type": "markdown",
   "metadata": {},
   "source": [
    "This is the loop (actually recursion) invariant:\n",
    "$mc(a,b) \\leftrightarrow b \\geq 91"
   ]
  }
 ],
 "metadata": {
  "kernelspec": {
   "display_name": "Python 3",
   "language": "python",
   "name": "python3"
  },
  "language_info": {
   "codemirror_mode": {
    "name": "ipython",
    "version": 3
   },
   "file_extension": ".py",
   "mimetype": "text/x-python",
   "name": "python",
   "nbconvert_exporter": "python",
   "pygments_lexer": "ipython3",
   "version": "3.9.5"
  }
 },
 "nbformat": 4,
 "nbformat_minor": 4
}

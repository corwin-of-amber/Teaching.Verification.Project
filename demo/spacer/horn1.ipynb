{
 "cells": [
  {
   "cell_type": "code",
   "execution_count": 1,
   "metadata": {},
   "outputs": [],
   "source": [
    "from z3 import *"
   ]
  },
  {
   "cell_type": "markdown",
   "metadata": {},
   "source": [
    "We are going to verify this program:\n",
    "```\n",
    "assume(B > 0);\n",
    "C = A;\n",
    "D = 0;\n",
    "while (D < B) {\n",
    "    C++; D++;\n",
    "}\n",
    "assert(C == A + B);\n",
    "```"
   ]
  },
  {
   "cell_type": "code",
   "execution_count": 2,
   "metadata": {},
   "outputs": [],
   "source": [
    "_int = IntSort(); _bool = BoolSort()\n",
    "Inv = Function(\"Inv\", _int, _int, _int, _int, _bool)\n",
    "A, B, C, D, C1, D1 = Ints(\"A B C D C1 D1\")\n",
    "\n",
    "PRECONDITION = And(B > 0, C == A, D == 0)\n",
    "POSTCONDITION = (C == A + B)"
   ]
  },
  {
   "cell_type": "code",
   "execution_count": 3,
   "metadata": {},
   "outputs": [],
   "source": [
    "s = SolverFor('HORN')"
   ]
  },
  {
   "cell_type": "code",
   "execution_count": 4,
   "metadata": {},
   "outputs": [],
   "source": [
    "# B > 0 ∧ C = A ∧ D = 0 → Inv\n",
    "s.add(ForAll([A,B,C,D], Implies(PRECONDITION, \n",
    "                                Inv(A, B, C, D))))"
   ]
  },
  {
   "cell_type": "code",
   "execution_count": 5,
   "metadata": {},
   "outputs": [],
   "source": [
    "# Inv ∧ D < B ∧ C' = C + 1 ∧ D' = D + 1 → Inv\n",
    "s.add(ForAll([A,B,C,D,C1,D1], Implies(\n",
    "    And(Inv(A, B, C, D), D < B, C1 == C + 1, D1 == D + 1),\n",
    "    Inv(A, B, C1, D1)\n",
    ")))"
   ]
  },
  {
   "cell_type": "code",
   "execution_count": 6,
   "metadata": {},
   "outputs": [],
   "source": [
    "# Inv ∧ ¬(D < B) → C = A + B\n",
    "s.add(ForAll([A,B,C,D], Implies(\n",
    "    And(Inv(A,B,C,D), D >= B, Not(POSTCONDITION)),\n",
    "                               False)))"
   ]
  },
  {
   "cell_type": "code",
   "execution_count": 7,
   "metadata": {},
   "outputs": [
    {
     "data": {
      "text/html": [
       "<b>sat</b>"
      ],
      "text/plain": [
       "sat"
      ]
     },
     "execution_count": 7,
     "metadata": {},
     "output_type": "execute_result"
    }
   ],
   "source": [
    "s.check()"
   ]
  },
  {
   "cell_type": "code",
   "execution_count": 8,
   "metadata": {},
   "outputs": [
    {
     "data": {
      "text/html": [
       "[Inv = [else &rarr;\n",
       "        &#957;<sub>2</sub> + -1&middot;&#957;<sub>0</sub> + -1&middot;&#957;<sub>3</sub> &le; 0 &and;\n",
       "        &#957;<sub>0</sub> + &#957;<sub>3</sub> + -1&middot;&#957;<sub>2</sub> &le; 0 &and;\n",
       "        &#957;<sub>2</sub> + -1&middot;&#957;<sub>0</sub> + -1&middot;&#957;<sub>1</sub> &le; 0]]"
      ],
      "text/plain": [
       "[Inv = [else ->\n",
       "        And(Var(2) + -1*Var(0) + -1*Var(3) <= 0,\n",
       "            Var(0) + Var(3) + -1*Var(2) <= 0,\n",
       "            Var(2) + -1*Var(0) + -1*Var(1) <= 0)]]"
      ]
     },
     "execution_count": 8,
     "metadata": {},
     "output_type": "execute_result"
    }
   ],
   "source": [
    "s.model()"
   ]
  },
  {
   "cell_type": "markdown",
   "metadata": {},
   "source": [
    "This is the loop invariant!\n",
    "\n",
    "What is means is:\n",
    "\n",
    "$C = A + D \\land C \\leq A + B$\n",
    "\n",
    "Make sure you understand why. Notice that $v_0$ represents the variable A, $v_1$ is B and so on.\n",
    "\n",
    "Can you find a simpler (slightly shorter) invariant?"
   ]
  }
 ],
 "metadata": {
  "kernelspec": {
   "display_name": "Python 3",
   "language": "python",
   "name": "python3"
  },
  "language_info": {
   "codemirror_mode": {
    "name": "ipython",
    "version": 3
   },
   "file_extension": ".py",
   "mimetype": "text/x-python",
   "name": "python",
   "nbconvert_exporter": "python",
   "pygments_lexer": "ipython3",
   "version": "3.9.5"
  }
 },
 "nbformat": 4,
 "nbformat_minor": 4
}

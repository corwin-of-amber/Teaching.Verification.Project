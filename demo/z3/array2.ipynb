{
 "cells": [
  {
   "cell_type": "code",
   "execution_count": 1,
   "metadata": {},
   "outputs": [],
   "source": [
    "from z3 import *"
   ]
  },
  {
   "cell_type": "code",
   "execution_count": 2,
   "metadata": {},
   "outputs": [],
   "source": [
    "Set = lambda T: ArraySort(T, BoolSort())"
   ]
  },
  {
   "cell_type": "code",
   "execution_count": 3,
   "metadata": {},
   "outputs": [],
   "source": [
    "x, y, z = Ints('x y z')\n",
    "a1 = Const('a1', Set(IntSort()))\n",
    "a2 = Const('a2', Set(IntSort()))"
   ]
  },
  {
   "cell_type": "code",
   "execution_count": 4,
   "metadata": {},
   "outputs": [
    {
     "data": {
      "text/html": [
       "a1[x]"
      ],
      "text/plain": [
       "a1[x]"
      ]
     },
     "execution_count": 4,
     "metadata": {},
     "output_type": "execute_result"
    }
   ],
   "source": [
    "Select(a1, x)"
   ]
  },
  {
   "cell_type": "code",
   "execution_count": 5,
   "metadata": {},
   "outputs": [],
   "source": [
    "f_and = Function('and', BoolSort(), BoolSort(), BoolSort())\n",
    "f_or = Function('or', BoolSort(), BoolSort(), BoolSort())\n",
    "f_not = Function('not', BoolSort(), BoolSort())"
   ]
  },
  {
   "cell_type": "code",
   "execution_count": 6,
   "metadata": {},
   "outputs": [
    {
     "data": {
      "text/html": [
       "<b>unsat</b>"
      ],
      "text/plain": [
       "unsat"
      ]
     },
     "execution_count": 6,
     "metadata": {},
     "output_type": "execute_result"
    }
   ],
   "source": [
    "s = Solver()\n",
    "b1, b2 = Bools('b1 b2')\n",
    "s.add(ForAll([b1, b2], And(f_and(b1, b2) == And(b1, b2),\n",
    "                           f_or(b1, b2) == Or(b1, b2),\n",
    "                           f_not(b1) == Not(b1))))\n",
    "s.add(Not(Map(f_not, Map(f_and, a1, a2)) == Map(f_or, Map(f_not, a1), Map(f_not, a2))))\n",
    "s.check()"
   ]
  },
  {
   "cell_type": "code",
   "execution_count": null,
   "metadata": {},
   "outputs": [],
   "source": []
  }
 ],
 "metadata": {
  "kernelspec": {
   "display_name": "Python 3",
   "language": "python",
   "name": "python3"
  },
  "language_info": {
   "codemirror_mode": {
    "name": "ipython",
    "version": 3
   },
   "file_extension": ".py",
   "mimetype": "text/x-python",
   "name": "python",
   "nbconvert_exporter": "python",
   "pygments_lexer": "ipython3",
   "version": "3.9.4"
  }
 },
 "nbformat": 4,
 "nbformat_minor": 4
}
